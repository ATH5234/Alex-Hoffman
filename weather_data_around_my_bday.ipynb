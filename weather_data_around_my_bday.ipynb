{
  "nbformat": 4,
  "nbformat_minor": 0,
  "metadata": {
    "colab": {
      "name": "weather data around my bday",
      "provenance": [],
      "collapsed_sections": [],
      "toc_visible": true
    },
    "kernelspec": {
      "name": "python3",
      "display_name": "Python 3"
    }
  },
  "cells": [
    {
      "cell_type": "markdown",
      "metadata": {
        "id": "U36DQtYAQC-Y",
        "colab_type": "text"
      },
      "source": [
        "### Weather Data around my birthday \n"
      ]
    },
    {
      "cell_type": "markdown",
      "metadata": {
        "id": "bGKRHULQQM3X",
        "colab_type": "text"
      },
      "source": [
        "### This project is for evaluating the weather data around my birthday in July throughout the years to look and see if there any difference in the weather patterns. Specifically, I wanted to see if there was any change in preciupitation levels in relation to rainfall totals, a couple days before and after my birthday on July 16. \n"
      ]
    },
    {
      "cell_type": "markdown",
      "metadata": {
        "id": "hOKntwChE4L6",
        "colab_type": "text"
      },
      "source": [
        "(https://imgur.com/MUIuX3g)\n",
        "\n",
        "\n"
      ]
    },
    {
      "cell_type": "markdown",
      "metadata": {
        "id": "jasYeCUFF9wB",
        "colab_type": "text"
      },
      "source": [
        "### In my analysis I found that 24 out of the possible 39 days, the precipitation totals amounted to 0. On my birthday (July 16) we see .32 was the highest amount of precipitation, as the other two years it was 0. The highest rainfall total seen was 2.06 which occurred July 22nd of 2019. Something that also interested me was that 0 was recorded on July 10th for all three years. In conclusion the precipitation totals seemed to be very low within that timeframe, you could infer some kind of drought occurred. \n"
      ]
    }
  ]
}